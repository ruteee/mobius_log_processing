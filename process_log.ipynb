{
 "cells": [
  {
   "cell_type": "code",
   "execution_count": 1,
   "metadata": {},
   "outputs": [],
   "source": [
    "import re\n",
    "import pandas as pd\n",
    "import numpy as np\n",
    "from  datetime import datetime, timedelta\n",
    "import math\n",
    "import seaborn as sns\n",
    "from matplotlib import pyplot as plt"
   ]
  },
  {
   "cell_type": "code",
   "execution_count": 2,
   "metadata": {},
   "outputs": [],
   "source": [
    "sns.set_style(\"darkgrid\")"
   ]
  },
  {
   "cell_type": "code",
   "execution_count": 3,
   "metadata": {},
   "outputs": [],
   "source": [
    "def get_text(filepath: str):\n",
    "    with open(filepath) as file:\n",
    "        text = file.read()\n",
    "        return text"
   ]
  },
  {
   "cell_type": "code",
   "execution_count": 4,
   "metadata": {},
   "outputs": [],
   "source": [
    "def process_log_new_models(log, good_qty, bad_qty):\n",
    "    \"\"\"\n",
    "    Args: \n",
    "    log - The log firing patterns to be processed\n",
    "    good_qty - Number of Good sates on the Petri Net (This Method assumes a redundancy model)\n",
    "    bad_qty - Number of Bad sates on the Petri Net (This Method assumes a redundancy model)\n",
    "    \"\"\"\n",
    "\n",
    "    log_processed = pd.Series([], dtype='float64')\n",
    "    log_processed = {}\n",
    "\n",
    "    str_pattern = \"\"\n",
    "    for i in range(good_qty):\n",
    "        str_pattern += f\"Good{i+1} = 1|\"\n",
    "    \n",
    "    if bad_qty > 1:\n",
    "        \n",
    "        for i in range(bad_qty):\n",
    "            str_pattern += f\"Bad{i+1} =  1|\"\n",
    "        str_pattern[0:-2]\n",
    "    else:\n",
    "        str_pattern += \"Bad = 1\"\n",
    "\n",
    "\n",
    "    for i in range(0, len(log)):\n",
    "        try:\n",
    "            if i < len(log) - 1:\n",
    "                state = re.findall(str_pattern, log[i].split(\"Enabling state before action firing\")[1])[0]\n",
    "            else:\n",
    "                state = re.findall(str_pattern, log[i].split(\"Affected state after firing\")[1])[0]\n",
    "            # print('state',state)\n",
    "        except:\n",
    "            pass\n",
    "        if i > 0:\n",
    "            time_idx = float((re.findall(\"\\d+\\.\\d+|\\d+\\d+\",log[i])[0]))\n",
    "        else:\n",
    "            time_idx = 0.0\n",
    "\n",
    "        for i in range(good_qty):\n",
    "            if (f\"Good{i+1}\") in state or 'Normal' in state:\n",
    "                log_processed[time_idx] = f\"Good{i+1}\"\n",
    "            elif (f\"Bad\") in state or 'Failure' in state:\n",
    "                log_processed[time_idx] = f\"Bad\"\n",
    "    return pd.Series(log_processed)"
   ]
  },
  {
   "cell_type": "code",
   "execution_count": 5,
   "metadata": {},
   "outputs": [],
   "source": [
    "def gen_time_series_2023(log_processed, step_size):\n",
    "    \"\"\"\n",
    "    Receives a set of firing event patterns and creates a time series\n",
    "    Args: \n",
    "        log_processed: Array with the firing patterns \n",
    "        step_size: Time step f the simulation\n",
    "    Returns\n",
    "        The time series\n",
    "    \"\"\"\n",
    "    time_series = pd.Series([], dtype='float64')\n",
    "    index = 0\n",
    "    for i in range(len(log_processed) - 1):\n",
    "        # if i != 0:\n",
    "        time_series.loc[float(log_processed.index[i])] = log_processed.iloc[i]\n",
    "        # print(float(log_processed.index[i]))\n",
    "        # print(f\"Na iteração {i} \")\n",
    "        \n",
    "        if i  < len(log_processed) - 1:\n",
    "            new_index = float(log_processed.index[i+1])\n",
    "            number_of_values_to_add = int(np.floor((new_index - index)/step_size))    \n",
    "            value = log_processed.iloc[i]\n",
    "\n",
    "            idxs = np.array(range(number_of_values_to_add))*step_size + index\n",
    "            \n",
    "            if number_of_values_to_add < 0:\n",
    "                 print(number_of_values_to_add)\n",
    "            time_series = pd.concat([time_series, pd.Series(np.ones(number_of_values_to_add)*value , idxs)])\n",
    "            index = new_index\n",
    "\n",
    "    return time_series"
   ]
  },
  {
   "cell_type": "code",
   "execution_count": 6,
   "metadata": {},
   "outputs": [],
   "source": [
    "def get_date_from_hours_passed(hours_passed, start_date):\n",
    "    \"\"\"\n",
    "        Retrives the correct datetime given a number of hours passed and start_date\n",
    "        Args:\n",
    "            hours_passed: The number of passed hours\n",
    "            start_date: The reference date\n",
    "    \"\"\"\n",
    "    start_datetime = datetime.strptime(start_date, '%Y-%m-%d %H:%M:%S')\n",
    "    end_datetime = start_datetime + timedelta(hours=hours_passed)\n",
    "    return end_datetime"
   ]
  },
  {
   "cell_type": "code",
   "execution_count": 7,
   "metadata": {},
   "outputs": [],
   "source": [
    "def concat_series(number_batches, batches,mapping:dict, specify_batch=False, good_qty = 2, bad_qty=1,  time_step: int = 1 ):\n",
    "    \"\"\"\n",
    "        Builts a concatenated time series using a vector of batches from a Petri Net simulation of Redundancy Models. \n",
    "        It can be be used to create a time series specifying a batch index\n",
    "        when passing the parameter specify_batch = True\n",
    "        Returns:\n",
    "            The concatenated time series\n",
    "        Args:  \n",
    "        number_batches - Number of batches to be used in the concatenation\n",
    "        batches - Vector containing batches extracted from log file\n",
    "        states_map: A dictionary containing the map from sates name to float \n",
    "        specify_batch - Parameter used to specify if only one batch should be used. \n",
    "            In case of True, it will the 'number_batches' param as the index to specify the required batch\n",
    "        good_qty - Number of Good sates on the Petri Net (This Method assumes a redundancy model)\n",
    "        bad_qty - Number of Bad sates on the Petri Net (This Method assumes a redundancy model)\n",
    "        time_step - Time step of the simualtion. Default is 1 hour\n",
    "\n",
    "    \"\"\"\n",
    "    time_step = 1 \n",
    "\n",
    "    series = pd.Series([])\n",
    "    if not specify_batch:\n",
    "        for i in range(number_batches):\n",
    "            log = batches[i+1].split(\"#### Firing\")\n",
    "            log_processed = process_log_new_models(log, good_qty, bad_qty)\n",
    "            log_processed = log_processed.apply(lambda x: mapping[x])          \n",
    "            unit_series = gen_time_series_2023(log_processed,time_step).reset_index(drop=True)\n",
    "            series = pd.concat([series, unit_series])\n",
    "    else:\n",
    "        log = batches[number_batches].split(\"#### Firing\")\n",
    "        log_processed = process_log_new_models(log, good_qty, bad_qty)\n",
    "        log_processed = log_processed.apply(lambda x: mapping[x])\n",
    "        \n",
    "        unit_series = gen_time_series_2023(log_processed,time_step).reset_index(drop=True)\n",
    "        series = pd.concat([series, unit_series])\n",
    "\n",
    "    series = series.reset_index(drop=True)\n",
    "    series.index = series.index*time_step\n",
    "    return series"
   ]
  },
  {
   "cell_type": "markdown",
   "metadata": {},
   "source": [
    "### Scenario 1 - Chosing a batch index to built the time series from Mobius Log (mannualy)\n",
    "\n",
    "#### The following steps are show to explain how to create the time series step by step"
   ]
  },
  {
   "cell_type": "code",
   "execution_count": 8,
   "metadata": {},
   "outputs": [
    {
     "name": "stdout",
     "output_type": "stream",
     "text": [
      "Time Series from batch #1:\n",
      " 0.0        1.0\n",
      "0.0        1.0\n",
      "1.0        1.0\n",
      "2.0        1.0\n",
      "3.0        1.0\n",
      "          ... \n",
      "80698.3    1.0\n",
      "80699.3    1.0\n",
      "80700.3    1.0\n",
      "80701.3    1.0\n",
      "80702.3    1.0\n",
      "Length: 80715, dtype: float64\n"
     ]
    }
   ],
   "source": [
    "#Step 1 - Defining Maping for Petri Net states. In this example we are dealing with a petri net with 2 redundancy nodes and a Bad state\n",
    "\n",
    "mapping_faults_exp = {\n",
    "    'Good1' : 0,\n",
    "    'Good2': 1, \n",
    "    'Bad' :2,\n",
    "}\n",
    "\n",
    "#Step 2 - Chose the batch index you want to use for builting the time series\n",
    "idx = 1 \n",
    "\n",
    "\n",
    "#Step 3 - Read log file\n",
    "log_text = get_text(\"mobius_log.txt\")\n",
    "\n",
    "#Step 4 - Read batches from log file - Splitting the file\n",
    "\n",
    "batches = log_text.split('##### NEW BATCH #####')\n",
    "\n",
    "#Testing splittig on #Batch pattern\n",
    "# print(\"Batch pattern\\n\", batches[idx])\n",
    "\n",
    "#Step 5 - Splitig the log into firing events\n",
    "log_firings = batches[idx].split(\"#### Firing\")\n",
    "\n",
    "#Step 6  Process the log file from the chosen batch\n",
    "processed_log = process_log_new_models(log=log_firings, good_qty=2, bad_qty=1)\n",
    "\n",
    "#Step 7 - Apply mappings to states \n",
    "processed_log = processed_log.apply(lambda x: mapping_faults_exp[x])\n",
    "\n",
    "\n",
    "#Step 8 - Generate the time Series with the processed log\n",
    "time_series = gen_time_series_2023(\n",
    "    log_processed=processed_log,\n",
    "    step_size=1, # The total time of simulation\n",
    ")\n",
    "\n",
    "print(f\"Time Series from batch #{idx}:\\n\", time_series)\n"
   ]
  },
  {
   "cell_type": "markdown",
   "metadata": {},
   "source": [
    "### Scenario 2 - Concatenate multiple batches to built one time series\n",
    "\n",
    "#### You can use more than one batch appendded to built a unique timeseries"
   ]
  },
  {
   "cell_type": "code",
   "execution_count": 9,
   "metadata": {},
   "outputs": [
    {
     "name": "stderr",
     "output_type": "stream",
     "text": [
      "/tmp/ipykernel_32340/3789234148.py:21: DeprecationWarning: The default dtype for empty Series will be 'object' instead of 'float64' in a future version. Specify a dtype explicitly to silence this warning.\n",
      "  series = pd.Series([])\n"
     ]
    },
    {
     "name": "stdout",
     "output_type": "stream",
     "text": [
      "Time series with 3 batches\n",
      ": 0         1.0\n",
      "1         1.0\n",
      "2         1.0\n",
      "3         1.0\n",
      "4         1.0\n",
      "         ... \n",
      "241095    1.0\n",
      "241096    1.0\n",
      "241097    1.0\n",
      "241098    1.0\n",
      "241099    1.0\n",
      "Length: 241100, dtype: float64\n"
     ]
    }
   ],
   "source": [
    "#Step 1 - Chose the number of batches to be used\n",
    "number_batches = 3\n",
    "\n",
    "#Step 2 - Call the funnction that summarizes the process shown in the first scenario\n",
    "multiple_batches_time_series = concat_series(\n",
    "    number_batches=number_batches,\n",
    "    batches = batches,\n",
    "    mapping=mapping_faults_exp,\n",
    "    specify_batch=False, # In this case you do not have to specify the batch idx, so this param is set as False\n",
    "    good_qty=2,\n",
    "    bad_qty=1,\n",
    "    time_step=1\n",
    ")\n",
    "\n",
    "print(\"Time series with 3 batches\\n:\", multiple_batches_time_series)"
   ]
  },
  {
   "cell_type": "markdown",
   "metadata": {},
   "source": [
    "### Scenario 3 - Use a specific batch to built one time series (Using the concat_time_series function)\n",
    "\n",
    "#### You can reproduce the Scenario #1 using the concat_series function. To do so, specify the desired batch index  using the param 'number_batches' and set the parameter \"specify_batch\" as True"
   ]
  },
  {
   "cell_type": "code",
   "execution_count": 10,
   "metadata": {},
   "outputs": [
    {
     "name": "stdout",
     "output_type": "stream",
     "text": [
      "Time series with One batch\n",
      ": 0        1.0\n",
      "1        1.0\n",
      "2        1.0\n",
      "3        1.0\n",
      "4        1.0\n",
      "        ... \n",
      "75971    1.0\n",
      "75972    1.0\n",
      "75973    1.0\n",
      "75974    1.0\n",
      "75975    1.0\n",
      "Length: 75976, dtype: float64\n"
     ]
    },
    {
     "name": "stderr",
     "output_type": "stream",
     "text": [
      "/tmp/ipykernel_32340/3789234148.py:21: DeprecationWarning: The default dtype for empty Series will be 'object' instead of 'float64' in a future version. Specify a dtype explicitly to silence this warning.\n",
      "  series = pd.Series([])\n"
     ]
    }
   ],
   "source": [
    "#Step 1 - Set the number of batches param as the index number you want to use. For exammple, in this case we will use the index #3\n",
    "idx = 3\n",
    "\n",
    "#Step 2 - Call the funnction that summarizes the proccess shown in the first scenario, passing the index to the parameter number_batches\n",
    "one_batches_time_series = concat_series(\n",
    "    number_batches=idx,\n",
    "    batches = batches,\n",
    "    mapping=mapping_faults_exp,\n",
    "    specify_batch=True, # In this case we set this param as True, so the alg will know that it needs to use number_bacthes as the index number,\n",
    "    good_qty=2,\n",
    "    bad_qty=1,\n",
    "    time_step=1\n",
    ")\n",
    "\n",
    "print(\"Time series with One batch\\n:\", one_batches_time_series)"
   ]
  },
  {
   "cell_type": "markdown",
   "metadata": {},
   "source": [
    "### Scenario #4 Creating time series using from Mobius Log using statistical approach"
   ]
  },
  {
   "cell_type": "markdown",
   "metadata": {},
   "source": [
    "#### Since there are many batches in the log, you can choose one of the runs and create the time series from it.\n",
    "\n",
    "A possible strategy for choosing the batch may be to choose the one with the number of events (Good, Good2 and Bad) that is statistically closest to all existing batches\n",
    "\n",
    "Next, a function is defined to calculate the average count for each state in each batch. The function compares each batch's event count per state to the general average using the standard deviation definition.\n",
    "In other words, the sum of the squared difference between the count of events for each state of each batch and the general average of all batches.\n",
    "\n",
    "\n",
    "Having all the distances computed, the function chooses the series that is most statistically close to the set average, taking into account the sum of the distances of all states for each batch individually"
   ]
  },
  {
   "cell_type": "code",
   "execution_count": 11,
   "metadata": {},
   "outputs": [],
   "source": [
    "\n",
    "def compute_time_series_index_by_statistical_strategy(\n",
    "        number_batches: int,\n",
    "        batches,\n",
    "        states_map: dict,\n",
    "        qty_good_states: int = 2,\n",
    "        qty_bad_states: int = 2,\n",
    "        specify_batch=False,\n",
    "):\n",
    "\n",
    "    \"\"\"  \n",
    "    Computes the best bacth index to be used to built the time series, using an statistical approach\n",
    "    \n",
    "    Args: \n",
    "    number_batches - Number of batches to be used in the concatenation\n",
    "    batches - Vector containing batches extracted from log file\n",
    "    states_map: A dictionary containing the map from sates name to float \n",
    "    specify_batch - Parameter used to specify if only one batch should be used. \n",
    "        In case of True, it will the 'number_batches' param as the index to specify the required batch\n",
    "    good_qty - Number of Good sates on the Petri Net (This Method assumes a redundancy model)\n",
    "    bad_qty - Number of Bad sates on the Petri Net (This Method assumes a redundancy model)\n",
    "    \"\"\"\n",
    "\n",
    "    averages = {}\n",
    "    distances = {}\n",
    "    sum_dists = []\n",
    "\n",
    "    for i in range(1, number_batches + 1):\n",
    "        #In this case we are specifying the batch with for index, ad computing  the count for all states. \n",
    "        series = concat_series(number_batches = i,\n",
    "                               batches= batches,\n",
    "                               good_qty=qty_good_states,\n",
    "                               bad_qty=qty_bad_states,\n",
    "                               mapping=mapping_faults_exp,\n",
    "                               specify_batch=True)\n",
    "        \n",
    "        for state_name, state_number in states_map.items():\n",
    "            state_count = 100*series.value_counts(normalize=True).loc[float(state_number)]\n",
    "            try:\n",
    "                averages[state_name] +=  state_count\n",
    "            except KeyError:\n",
    "                averages[state_name] = state_count\n",
    "\n",
    "\n",
    "    for state_name, state_count in averages.items():\n",
    "        if specify_batch:\n",
    "            number_batches = 1\n",
    "        averages[state_name] +=  state_count/number_batches\n",
    "\n",
    "    print(f\"Averages per state, considering {number_batches} batches:\\n\", averages )\n",
    "\n",
    "    #Next step choses the batch that is more closely to the stats\n",
    "    for i in range(1, number_batches + 1):\n",
    "        series = concat_series(\n",
    "            number_batches= i,\n",
    "            batches = batches,\n",
    "            good_qty=qty_good_states, \n",
    "            bad_qty=qty_bad_states,\n",
    "            mapping=states_map,\n",
    "            specify_batch=True,\n",
    "        )\n",
    "\n",
    "\n",
    "        for state_name, state_number in states_map.items():\n",
    "            state_count = 100*series.value_counts(normalize=True).loc[float(state_number)]\n",
    "            try:\n",
    "                distances[state_name] +=  (state_count - averages[state_name])**2\n",
    "            except KeyError:\n",
    "                distances[state_name] = (state_count - averages[state_name])**2\n",
    "\n",
    "        for state_name, state_count in averages.items():\n",
    "            if specify_batch:\n",
    "                number_batches = 1\n",
    "            distances[state_name] +=  state_count/number_batches\n",
    "\n",
    "        dist = math.sqrt(sum(list(distances.values())))\n",
    "        sum_dists.append(dist)\n",
    "        chosen_idx = np.argmin(sum_dists) + 1\n",
    "    print(\"Std dev per batches:\\n\", sum_dists)\n",
    "    \n",
    "    return chosen_idx"
   ]
  },
  {
   "cell_type": "code",
   "execution_count": 12,
   "metadata": {},
   "outputs": [
    {
     "name": "stderr",
     "output_type": "stream",
     "text": [
      "/tmp/ipykernel_32340/3789234148.py:21: DeprecationWarning: The default dtype for empty Series will be 'object' instead of 'float64' in a future version. Specify a dtype explicitly to silence this warning.\n",
      "  series = pd.Series([])\n"
     ]
    },
    {
     "name": "stdout",
     "output_type": "stream",
     "text": [
      "Averages per state, considering 10 batches:\n",
      " {'Good1': 467.732610712982, 'Good2': 585.6296648223527, 'Bad': 46.63772446466548}\n",
      "Std dev per batches:\n",
      " [687.3661461128062, 970.3654879828664, 1187.0279891422342, 1368.7191916984495, 1527.8346571817087, 1672.1281792186282, 1806.3289737588864, 1932.9192025366133, 2049.996961497536, 2159.8252192744103]\n",
      "Index chosen 1\n"
     ]
    }
   ],
   "source": [
    "#Step 1 - Define the number of batches you want to use in the analysis\n",
    "number_batches = 10\n",
    "\n",
    "\n",
    "#Call the function passing gthe parameters. It will return the index of the batch that should be used \n",
    "#The other params will follow as the previous examples\n",
    "serie_index  = compute_time_series_index_by_statistical_strategy(\n",
    "    number_batches = number_batches,\n",
    "    batches=batches,\n",
    "    states_map=mapping_faults_exp,\n",
    "    qty_good_states=2,\n",
    "    qty_bad_states=1,\n",
    "    specify_batch=False,\n",
    ")\n",
    "\n",
    "print(\"Index chosen\", serie_index)"
   ]
  },
  {
   "cell_type": "code",
   "execution_count": 13,
   "metadata": {},
   "outputs": [
    {
     "name": "stderr",
     "output_type": "stream",
     "text": [
      "/tmp/ipykernel_32340/3789234148.py:21: DeprecationWarning: The default dtype for empty Series will be 'object' instead of 'float64' in a future version. Specify a dtype explicitly to silence this warning.\n",
      "  series = pd.Series([])\n"
     ]
    }
   ],
   "source": [
    "#Step 2 - Use the chosen idex to crerate the time series\n",
    "chosen_series = concat_series(number_batches=serie_index,\n",
    "                              batches=batches,\n",
    "                              good_qty=2,\n",
    "                              bad_qty=1,\n",
    "                              mapping=mapping_faults_exp,\n",
    "                              specify_batch=True)\n"
   ]
  },
  {
   "cell_type": "code",
   "execution_count": 14,
   "metadata": {},
   "outputs": [
    {
     "data": {
      "text/plain": [
       "1.0    50.906275\n",
       "0.0    37.367280\n",
       "2.0    11.726445\n",
       "dtype: float64"
      ]
     },
     "execution_count": 14,
     "metadata": {},
     "output_type": "execute_result"
    }
   ],
   "source": [
    "#Checking time series dist\n",
    "100*chosen_series.value_counts(normalize=True)"
   ]
  },
  {
   "cell_type": "markdown",
   "metadata": {},
   "source": [
    "Adding date index\n",
    "\n",
    "As the date start itself it is not important, you can define any value for the initial date. The durantion though will reflect the simualtion duration. In this case, it is a 10 years simulation. In the notebook, we only did for this example, but it can be done for all of the produced titme series"
   ]
  },
  {
   "cell_type": "code",
   "execution_count": 15,
   "metadata": {},
   "outputs": [
    {
     "data": {
      "text/plain": [
       "2019-01-01 00:00:00    1.0\n",
       "2019-01-01 01:00:00    1.0\n",
       "2019-01-01 02:00:00    1.0\n",
       "2019-01-01 03:00:00    1.0\n",
       "2019-01-01 04:00:00    1.0\n",
       "                      ... \n",
       "2028-03-16 22:00:00    1.0\n",
       "2028-03-16 23:00:00    1.0\n",
       "2028-03-17 00:00:00    1.0\n",
       "2028-03-17 01:00:00    1.0\n",
       "2028-03-17 02:00:00    1.0\n",
       "Length: 80715, dtype: float64"
      ]
     },
     "execution_count": 15,
     "metadata": {},
     "output_type": "execute_result"
    }
   ],
   "source": [
    "start_date = \"2019-01-01 0:0:0\" \n",
    "final_series = chosen_series.copy()\n",
    "final_series.index = [get_date_from_hours_passed(hours_passed, start_date) for hours_passed in chosen_series.index]\n",
    "final_series"
   ]
  },
  {
   "cell_type": "markdown",
   "metadata": {},
   "source": [
    "Creating dataframe for the time Series"
   ]
  },
  {
   "cell_type": "code",
   "execution_count": 16,
   "metadata": {},
   "outputs": [
    {
     "data": {
      "text/html": [
       "<div>\n",
       "<style scoped>\n",
       "    .dataframe tbody tr th:only-of-type {\n",
       "        vertical-align: middle;\n",
       "    }\n",
       "\n",
       "    .dataframe tbody tr th {\n",
       "        vertical-align: top;\n",
       "    }\n",
       "\n",
       "    .dataframe thead th {\n",
       "        text-align: right;\n",
       "    }\n",
       "</style>\n",
       "<table border=\"1\" class=\"dataframe\">\n",
       "  <thead>\n",
       "    <tr style=\"text-align: right;\">\n",
       "      <th></th>\n",
       "      <th>system_state</th>\n",
       "    </tr>\n",
       "  </thead>\n",
       "  <tbody>\n",
       "    <tr>\n",
       "      <th>2019-01-01 00:00:00</th>\n",
       "      <td>1.0</td>\n",
       "    </tr>\n",
       "    <tr>\n",
       "      <th>2019-01-01 01:00:00</th>\n",
       "      <td>1.0</td>\n",
       "    </tr>\n",
       "    <tr>\n",
       "      <th>2019-01-01 02:00:00</th>\n",
       "      <td>1.0</td>\n",
       "    </tr>\n",
       "    <tr>\n",
       "      <th>2019-01-01 03:00:00</th>\n",
       "      <td>1.0</td>\n",
       "    </tr>\n",
       "    <tr>\n",
       "      <th>2019-01-01 04:00:00</th>\n",
       "      <td>1.0</td>\n",
       "    </tr>\n",
       "    <tr>\n",
       "      <th>...</th>\n",
       "      <td>...</td>\n",
       "    </tr>\n",
       "    <tr>\n",
       "      <th>2028-03-16 22:00:00</th>\n",
       "      <td>1.0</td>\n",
       "    </tr>\n",
       "    <tr>\n",
       "      <th>2028-03-16 23:00:00</th>\n",
       "      <td>1.0</td>\n",
       "    </tr>\n",
       "    <tr>\n",
       "      <th>2028-03-17 00:00:00</th>\n",
       "      <td>1.0</td>\n",
       "    </tr>\n",
       "    <tr>\n",
       "      <th>2028-03-17 01:00:00</th>\n",
       "      <td>1.0</td>\n",
       "    </tr>\n",
       "    <tr>\n",
       "      <th>2028-03-17 02:00:00</th>\n",
       "      <td>1.0</td>\n",
       "    </tr>\n",
       "  </tbody>\n",
       "</table>\n",
       "<p>80715 rows × 1 columns</p>\n",
       "</div>"
      ],
      "text/plain": [
       "                     system_state\n",
       "2019-01-01 00:00:00           1.0\n",
       "2019-01-01 01:00:00           1.0\n",
       "2019-01-01 02:00:00           1.0\n",
       "2019-01-01 03:00:00           1.0\n",
       "2019-01-01 04:00:00           1.0\n",
       "...                           ...\n",
       "2028-03-16 22:00:00           1.0\n",
       "2028-03-16 23:00:00           1.0\n",
       "2028-03-17 00:00:00           1.0\n",
       "2028-03-17 01:00:00           1.0\n",
       "2028-03-17 02:00:00           1.0\n",
       "\n",
       "[80715 rows x 1 columns]"
      ]
     },
     "metadata": {},
     "output_type": "display_data"
    }
   ],
   "source": [
    "df_time_series = pd.DataFrame(final_series, columns=['system_state'])\n",
    "display(df_time_series)\n",
    "df_time_series.to_parquet(\"series_example.parquet\")"
   ]
  },
  {
   "cell_type": "markdown",
   "metadata": {},
   "source": [
    "Plotting the series for better understanding"
   ]
  },
  {
   "cell_type": "code",
   "execution_count": 17,
   "metadata": {},
   "outputs": [
    {
     "data": {
      "text/plain": [
       "Text(0.5, 1.0, 'Fault time series signal obtained from PetriNet log file')"
      ]
     },
     "execution_count": 17,
     "metadata": {},
     "output_type": "execute_result"
    },
    {
     "data": {
      "image/png": "[encoded data removed]",
      "text/plain": [
       "<Figure size 800x1000 with 1 Axes>"
      ]
     },
     "metadata": {},
     "output_type": "display_data"
    }
   ],
   "source": [
    "init = 3000\n",
    "end = 8000\n",
    "plt.figure(figsize=(8,10))\n",
    "plt.xticks(labels=final_series.index.values[init:end], ticks=  range(end - init),rotation = 90,)\n",
    "plt.yticks([0,1,2], labels=[0, 1, 2])\n",
    "plt.tight_layout()\n",
    "plt.locator_params(axis='x', nbins=20)\n",
    "plt.ylabel(\"System State\", labelpad=0.2)\n",
    "plt.xlabel(\"Time\")\n",
    "\n",
    "# plt.xlim(series_model2.index[init], series_model2.index[end])\n",
    "plt.plot(final_series.values[init:end])\n",
    "plt.title(\"Fault time series signal obtained from PetriNet log file\")"
   ]
  }
 ],
 "metadata": {
  "kernelspec": {
   "display_name": "Python 3",
   "language": "python",
   "name": "python3"
  },
  "language_info": {
   "codemirror_mode": {
    "name": "ipython",
    "version": 3
   },
   "file_extension": ".py",
   "mimetype": "text/x-python",
   "name": "python",
   "nbconvert_exporter": "python",
   "pygments_lexer": "ipython3",
   "version": "3.8.10"
  }
 },
 "nbformat": 4,
 "nbformat_minor": 4
}
